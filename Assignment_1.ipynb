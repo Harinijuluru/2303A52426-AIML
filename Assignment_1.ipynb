{
  "nbformat": 4,
  "nbformat_minor": 0,
  "metadata": {
    "colab": {
      "provenance": [],
      "authorship_tag": "ABX9TyMbKifCSfp3ouMfjCum4sOi",
      "include_colab_link": true
    },
    "kernelspec": {
      "name": "python3",
      "display_name": "Python 3"
    },
    "language_info": {
      "name": "python"
    }
  },
  "cells": [
    {
      "cell_type": "markdown",
      "metadata": {
        "id": "view-in-github",
        "colab_type": "text"
      },
      "source": [
        "<a href=\"https://colab.research.google.com/github/Harinijuluru/2303A52426-AIML/blob/main/Assignment_1.ipynb\" target=\"_parent\"><img src=\"https://colab.research.google.com/assets/colab-badge.svg\" alt=\"Open In Colab\"/></a>"
      ]
    },
    {
      "cell_type": "code",
      "source": [
        "# Define actual and predicted values\n",
        "Y_actual = [20, 30, 40, 50, 60]\n",
        "Y_pred = [20.5, 30.3, 40.2, 50.6, 60.7]\n",
        "\n",
        "# Calculate errors\n",
        "errors = [actual - pred for actual, pred in zip(Y_actual, Y_pred)]\n",
        "\n",
        "# Calculate Mean Absolute Error (MAE)\n",
        "mae = sum(abs(error) for error in errors) / len(errors)\n",
        "\n",
        "# Calculate Mean Squared Error (MSE)\n",
        "mse = sum(error ** 2 for error in errors) / len(errors)\n",
        "\n",
        "# Calculate Root Mean Squared Error (RMSE)\n",
        "rmse = mse ** 0.5\n",
        "\n",
        "# Print the results\n",
        "print(\"Actual Values: \", Y_actual)\n",
        "print(\"Predicted Values: \", Y_pred)\n",
        "print(\"Errors (Y_actual - Y_pred): \", errors)\n",
        "print(\"Mean Absolute Error (MAE): \", mae)\n",
        "print(\"Mean Squared Error (MSE): \", mse)\n",
        "print(\"Root Mean Squared Error (RMSE): \", rmse)\n",
        "\n",
        "# Comparison of results\n",
        "print(\"\\nComparison of Actual vs Predicted:\")\n",
        "for actual, pred, error in zip(Y_actual, Y_pred, errors):\n",
        "    print(f\"Actual: {actual}, Predicted: {pred}, Error: {error}\")"
      ],
      "metadata": {
        "colab": {
          "base_uri": "https://localhost:8080/"
        },
        "id": "feFOl04lD6pp",
        "outputId": "15a0490d-68fb-48e3-faa1-93e630a48ee7"
      },
      "execution_count": null,
      "outputs": [
        {
          "output_type": "stream",
          "name": "stdout",
          "text": [
            "Actual Values:  [20, 30, 40, 50, 60]\n",
            "Predicted Values:  [20.5, 30.3, 40.2, 50.6, 60.7]\n",
            "Errors (Y_actual - Y_pred):  [-0.5, -0.3000000000000007, -0.20000000000000284, -0.6000000000000014, -0.7000000000000028]\n",
            "Mean Absolute Error (MAE):  0.4600000000000016\n",
            "Mean Squared Error (MSE):  0.24600000000000147\n",
            "Root Mean Squared Error (RMSE):  0.49598387070549127\n",
            "\n",
            "Comparison of Actual vs Predicted:\n",
            "Actual: 20, Predicted: 20.5, Error: -0.5\n",
            "Actual: 30, Predicted: 30.3, Error: -0.3000000000000007\n",
            "Actual: 40, Predicted: 40.2, Error: -0.20000000000000284\n",
            "Actual: 50, Predicted: 50.6, Error: -0.6000000000000014\n",
            "Actual: 60, Predicted: 60.7, Error: -0.7000000000000028\n"
          ]
        }
      ]
    }
  ]
}