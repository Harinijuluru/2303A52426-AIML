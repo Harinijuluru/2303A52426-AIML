{
  "nbformat": 4,
  "nbformat_minor": 0,
  "metadata": {
    "colab": {
      "provenance": [],
      "authorship_tag": "ABX9TyNBlOpIABJLvT/30MHxq1EL",
      "include_colab_link": true
    },
    "kernelspec": {
      "name": "python3",
      "display_name": "Python 3"
    },
    "language_info": {
      "name": "python"
    }
  },
  "cells": [
    {
      "cell_type": "markdown",
      "metadata": {
        "id": "view-in-github",
        "colab_type": "text"
      },
      "source": [
        "<a href=\"https://colab.research.google.com/github/Harinijuluru/2303A52426-AIML/blob/main/Ass_5_2.ipynb\" target=\"_parent\"><img src=\"https://colab.research.google.com/assets/colab-badge.svg\" alt=\"Open In Colab\"/></a>"
      ]
    },
    {
      "cell_type": "code",
      "execution_count": 1,
      "metadata": {
        "colab": {
          "base_uri": "https://localhost:8080/"
        },
        "id": "DEMIt6VkMnbb",
        "outputId": "920a47aa-d57c-4da3-fcbc-bc03d2ae3661"
      },
      "outputs": [
        {
          "output_type": "stream",
          "name": "stdout",
          "text": [
            "Epoch 0, MSE: 2.31521\n",
            "Epoch 1000, MSE: 0.00000\n",
            "Epoch 2000, MSE: 0.00000\n",
            "Epoch 3000, MSE: 0.00000\n",
            "Epoch 4000, MSE: 0.00000\n",
            "Epoch 5000, MSE: 0.00000\n",
            "Epoch 6000, MSE: 0.00000\n",
            "Epoch 7000, MSE: 0.00000\n",
            "Epoch 8000, MSE: 0.00000\n",
            "Epoch 9000, MSE: 0.00000\n",
            "Test Predictions: [0.36292666 0.36862381]\n",
            "Test MSE: 2.0312986630579687e-06\n",
            "Enter x1: 0.5\n",
            "Enter x2: 0.4\n",
            "Predicted output: 0.36292666026457066\n"
          ]
        }
      ],
      "source": [
        "import numpy as np\n",
        "\n",
        "def sigmoid(x):\n",
        "    return 1 / (1 + np.exp(-x))\n",
        "\n",
        "def sigmoid_derivative(x):\n",
        "    return x * (1 - x)\n",
        "\n",
        "def train_ann(X, y, hidden_neurons=5, lr=0.1, epochs=10000):\n",
        "    input_neurons = X.shape[1]\n",
        "    output_neurons = 1\n",
        "\n",
        "    np.random.seed(42)\n",
        "    W1 = np.random.rand(input_neurons, hidden_neurons)\n",
        "    b1 = np.random.rand(hidden_neurons)\n",
        "    W2 = np.random.rand(hidden_neurons, output_neurons)\n",
        "    b2 = np.random.rand(output_neurons)\n",
        "\n",
        "    for epoch in range(epochs):\n",
        "        # Forward propagation\n",
        "        hidden_input = np.dot(X, W1) + b1\n",
        "        hidden_output = sigmoid(hidden_input)\n",
        "        final_input = np.dot(hidden_output, W2) + b2\n",
        "        final_output = final_input  # Linear activation\n",
        "\n",
        "        # Compute error\n",
        "        error = y - final_output\n",
        "        mse = np.mean(error**2)\n",
        "\n",
        "        # Backpropagation\n",
        "        d_output = -2 * error / len(y)  # Derivative of MSE\n",
        "        d_W2 = np.dot(hidden_output.T, d_output)\n",
        "        d_b2 = np.sum(d_output, axis=0)\n",
        "\n",
        "        d_hidden = np.dot(d_output, W2.T) * sigmoid_derivative(hidden_output)\n",
        "        d_W1 = np.dot(X.T, d_hidden)\n",
        "        d_b1 = np.sum(d_hidden, axis=0)\n",
        "\n",
        "        # Update weights\n",
        "        W2 -= lr * d_W2\n",
        "        b2 -= lr * d_b2\n",
        "        W1 -= lr * d_W1\n",
        "        b1 -= lr * d_b1\n",
        "\n",
        "        if epoch % 1000 == 0:\n",
        "            print(f\"Epoch {epoch}, MSE: {mse:.5f}\")\n",
        "\n",
        "    return W1, b1, W2, b2\n",
        "\n",
        "def predict(X, W1, b1, W2, b2):\n",
        "    hidden_output = sigmoid(np.dot(X, W1) + b1)\n",
        "    final_output = np.dot(hidden_output, W2) + b2\n",
        "    return final_output\n",
        "\n",
        "# Training Data\n",
        "X_train = np.array([[0.2, 0.1], [0.3, 0.2], [0.4, 0.3], [0.7, 0.6], [0.8, 0.7], [0.9, 0.8]])\n",
        "y_train = np.array([[0.3441], [0.3500], [0.3558], [0.3729], [0.3785], [0.3841]])\n",
        "\n",
        "# Train the model\n",
        "W1, b1, W2, b2 = train_ann(X_train, y_train)\n",
        "\n",
        "# Test Data\n",
        "X_test = np.array([[0.5, 0.4], [0.6, 0.5]])\n",
        "y_test = np.array([[0.3615], [0.3672]])\n",
        "\n",
        "y_pred = predict(X_test, W1, b1, W2, b2)\n",
        "print(\"Test Predictions:\", y_pred.flatten())\n",
        "\n",
        "# Mean Squared Error Calculation\n",
        "mse_test = np.mean((y_test - y_pred) ** 2)\n",
        "print(\"Test MSE:\", mse_test)\n",
        "\n",
        "# User Input Prediction\n",
        "x1 = float(input(\"Enter x1: \"))\n",
        "x2 = float(input(\"Enter x2: \"))\n",
        "user_input = np.array([[x1, x2]])\n",
        "user_prediction = predict(user_input, W1, b1, W2, b2)\n",
        "print(\"Predicted output:\", user_prediction[0, 0])\n"
      ]
    }
  ]
}